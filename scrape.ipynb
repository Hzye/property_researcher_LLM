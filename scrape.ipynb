{
 "cells": [
  {
   "cell_type": "code",
   "execution_count": 2,
   "id": "4eebc71d",
   "metadata": {},
   "outputs": [],
   "source": [
    "import os\n",
    "from pathlib import Path\n",
    "import yt_dlp\n",
    "import whisper\n",
    "import re\n",
    "\n",
    "DOWNLOAD_DIR = Path(\"transcripts\")\n",
    "DOWNLOAD_DIR.mkdir(exist_ok=True)"
   ]
  },
  {
   "cell_type": "code",
   "execution_count": 7,
   "id": "f2403a4f",
   "metadata": {},
   "outputs": [],
   "source": [
    "def sanitize_filename(title):\n",
    "    # Remove characters that are invalid for Windows/ffmpeg\n",
    "    return re.sub(r'[<>:\"/\\\\|?*$]', '', title)\n",
    "\n",
    "def download_recent_videos(channel_name, k=3):\n",
    "    channel_url = f\"https://www.youtube.com/@{channel_name}/videos\"\n",
    "    downloaded_files = []\n",
    "    ydl_opts = {\n",
    "        \"format\": \"bestaudio/best\",\n",
    "        \"quiet\": True,\n",
    "        \"noplaylist\": True,\n",
    "        \"postprocessors\": [{\n",
    "            \"key\": \"FFmpegExtractAudio\",\n",
    "            \"preferredcodec\": \"mp3\",\n",
    "            \"preferredquality\": \"192\",\n",
    "        }],\n",
    "        \"playlistend\": k\n",
    "    }\n",
    "\n",
    "    with yt_dlp.YoutubeDL(ydl_opts) as ydl:\n",
    "        info = ydl.extract_info(channel_url, download=False)\n",
    "        videos = info[\"entries\"] if \"entries\" in info else [info]\n",
    "\n",
    "        for video in videos[:k]:\n",
    "            safe_title = sanitize_filename(video['title'])\n",
    "            filename = DOWNLOAD_DIR / f\"{safe_title}.mp3\"\n",
    "            text_filename = DOWNLOAD_DIR / f\"{safe_title}.txt\"\n",
    "            if text_filename.exists():\n",
    "                print(f\"Skipping already downloaded: {safe_title}\")\n",
    "            else:\n",
    "                print(f\"Downloading: {safe_title}\")\n",
    "                ydl_opts[\"outtmpl\"] = str(DOWNLOAD_DIR / f\"{safe_title}.%(ext)s\")\n",
    "                with yt_dlp.YoutubeDL(ydl_opts) as inner_ydl:\n",
    "                    inner_ydl.download([video[\"webpage_url\"]])\n",
    "            downloaded_files.append(filename)\n",
    "\n",
    "    return downloaded_files\n",
    "\n",
    "def transcribe_audio_files(audio_files, model_name=\"small\"):\n",
    "    \"\"\"\n",
    "    Transcribes a list of audio files using Whisper.\n",
    "    Skips files that have already been transcribed.\n",
    "    \"\"\"\n",
    "    model = whisper.load_model(model_name)\n",
    "    transcripts = {}\n",
    "\n",
    "    for audio_file in audio_files:\n",
    "        transcript_file = audio_file.with_suffix(\".txt\")\n",
    "        if transcript_file.exists():\n",
    "            print(f\"Skipping already transcribed: {audio_file.name}\")\n",
    "            with open(transcript_file, \"r\", encoding=\"utf-8\") as f:\n",
    "                transcripts[audio_file.name] = f.read()\n",
    "        else:\n",
    "            print(f\"Transcribing: {audio_file.name}\")\n",
    "            result = model.transcribe(str(audio_file))\n",
    "            transcripts[audio_file.name] = result[\"text\"]\n",
    "            with open(transcript_file, \"w\", encoding=\"utf-8\") as f:\n",
    "                f.write(result[\"text\"])\n",
    "\n",
    "    return transcripts\n",
    "\n",
    "def remove_mp3s(folder=DOWNLOAD_DIR):\n",
    "    count = 0\n",
    "    for file in folder.glob(\"*.mp3\"):\n",
    "        try:\n",
    "            file.unlink()\n",
    "            print(f\"Deleted: {file.name}\")\n",
    "            count += 1\n",
    "        except Exception as e:\n",
    "            print(f\"Error deleting {file.name}: {e}\")\n",
    "    print(f\"\\nDeleted {count} mp3 files.\")"
   ]
  },
  {
   "cell_type": "code",
   "execution_count": 8,
   "id": "2af8dd5d",
   "metadata": {},
   "outputs": [
    {
     "name": "stderr",
     "output_type": "stream",
     "text": [
      "Deprecated Feature: Support for Python version 3.9 has been deprecated. Please update to Python 3.10 or above\n"
     ]
    },
    {
     "name": "stdout",
     "output_type": "stream",
     "text": [
      "Skipping already downloaded: 800k - 1M Budget for a Home Listeners Choice Victoria - with Junge Ma & Todd Sloan\n",
      "Skipping already downloaded: Melbourne will Kill Your Portfolio Growth if you don’t know this!!! - With Simon Loo & Todd Sloan\n",
      "Skipping already downloaded: August 2025 Interest Rate Cut! - with Morgan Bushell & Todd Sloan\n",
      "Skipping already transcribed: 800k - 1M Budget for a Home Listeners Choice Victoria - with Junge Ma & Todd Sloan.mp3\n",
      "Skipping already transcribed: Melbourne will Kill Your Portfolio Growth if you don’t know this!!! - With Simon Loo & Todd Sloan.mp3\n",
      "Skipping already transcribed: August 2025 Interest Rate Cut! - with Morgan Bushell & Todd Sloan.mp3\n"
     ]
    }
   ],
   "source": [
    "CHANNEL_URL = \"pizzaandproperty1246\"\n",
    "K = 3\n",
    "\n",
    "audio_files = download_recent_videos(CHANNEL_URL, k=K)\n",
    "transcripts = transcribe_audio_files(audio_files)"
   ]
  },
  {
   "cell_type": "code",
   "execution_count": 4,
   "id": "082bca3d",
   "metadata": {},
   "outputs": [
    {
     "name": "stdout",
     "output_type": "stream",
     "text": [
      "Deleted: 800k - 1M Budget for a Home Listeners Choice Victoria - with Junge Ma & Todd Sloan.mp3\n",
      "Deleted: August 2025 Interest Rate Cut! - with Morgan Bushell & Todd Sloan.mp3\n",
      "Deleted: Melbourne will Kill Your Portfolio Growth if you don’t know this!!! - With Simon Loo & Todd Sloan.mp3\n",
      "\n",
      "Deleted 3 mp3 files.\n"
     ]
    }
   ],
   "source": [
    "remove_mp3s(DOWNLOAD_DIR)"
   ]
  }
 ],
 "metadata": {
  "kernelspec": {
   "display_name": "non-dia",
   "language": "python",
   "name": "env"
  },
  "language_info": {
   "codemirror_mode": {
    "name": "ipython",
    "version": 3
   },
   "file_extension": ".py",
   "mimetype": "text/x-python",
   "name": "python",
   "nbconvert_exporter": "python",
   "pygments_lexer": "ipython3",
   "version": "3.9.5"
  }
 },
 "nbformat": 4,
 "nbformat_minor": 5
}
