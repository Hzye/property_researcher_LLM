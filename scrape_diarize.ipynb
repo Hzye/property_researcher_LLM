{
 "cells": [
  {
   "cell_type": "code",
   "execution_count": 1,
   "id": "1cef9d31",
   "metadata": {},
   "outputs": [],
   "source": [
    "from pytube import Channel, YouTube\n",
    "from pydub import AudioSegment\n",
    "import whisperx\n",
    "from dotenv import load_dotenv\n",
    "import os\n",
    "import yt_dlp\n",
    "import re\n",
    "import torch\n",
    "torch.backends.cuda.matmul.allow_tf32 = True\n",
    "torch.backends.cudnn.allow_tf32 = True\n",
    "\n",
    "load_dotenv()\n",
    "\n",
    "def get_hf_token():\n",
    "    hf_token = os.getenv(\"HUGGINGFACE_TOKEN\")\n",
    "    if hf_token is None:\n",
    "        raise ValueError(\"Please set your Hugging Face token in HUGGINGFACE_TOKEN environment variable.\")\n",
    "    return hf_token"
   ]
  },
  {
   "cell_type": "code",
   "execution_count": 15,
   "id": "dbdc6395",
   "metadata": {},
   "outputs": [],
   "source": [
    "def sanitize_filename(name):\n",
    "    # Remove illegal Windows characters\n",
    "    return re.sub(r'[\\\\/*?:\"<>|]', \"\", name)\n",
    "\n",
    "def get_recent_videos(channel_url, k=3):\n",
    "    \"\"\"Return the most recent k video URLs from any YouTube channel/handle.\"\"\"\n",
    "    ydl_opts = {'quiet': True, 'extract_flat': True}\n",
    "    with yt_dlp.YoutubeDL(ydl_opts) as ydl:\n",
    "        info = ydl.extract_info(channel_url, download=False)\n",
    "        entries = info.get(\"entries\", [])\n",
    "        recent_videos = entries[:k]\n",
    "        video_urls = [\"https://www.youtube.com/watch?v=\" + v[\"id\"] for v in recent_videos]\n",
    "        return video_urls\n",
    "\n",
    "def download_youtube_audio(url, output_dir=\"audio\"):\n",
    "    os.makedirs(output_dir, exist_ok=True)\n",
    "    ydl_opts = {\n",
    "        'format': 'bestaudio/best',\n",
    "        'quiet': True,\n",
    "        'outtmpl': os.path.join(output_dir, 'temp_audio.%(ext)s'),\n",
    "        'postprocessors': [{\n",
    "            'key': 'FFmpegExtractAudio',\n",
    "            'preferredcodec': 'wav',\n",
    "            'preferredquality': '192',\n",
    "        }],\n",
    "    }\n",
    "    try:\n",
    "        with yt_dlp.YoutubeDL(ydl_opts) as ydl:\n",
    "            info = ydl.extract_info(url, download=True)\n",
    "            video_title = info.get(\"title\", \"video\")\n",
    "            safe_title = sanitize_filename(video_title)\n",
    "            output_path = os.path.join(output_dir, f\"{safe_title}.wav\")\n",
    "            \n",
    "            temp_path = os.path.join(output_dir, \"temp_audio.wav\")\n",
    "            if os.path.exists(temp_path):\n",
    "                os.rename(temp_path, output_path)\n",
    "            \n",
    "            return output_path, safe_title\n",
    "    except Exception as e:\n",
    "        print(f\"Skipping video {url} due to error: {e}\")\n",
    "        return None, None\n",
    "\n",
    "def transcribe_with_diarization(audio_path, hf_token, model_size=\"large-v2\"):\n",
    "    device = \"cuda\" if torch.cuda.is_available() else \"cpu\"\n",
    "    \n",
    "    # Load audio\n",
    "    audio = whisperx.load_audio(audio_path)\n",
    "    \n",
    "    # Load Whisper model\n",
    "    model = whisperx.load_model(model_size, device=device)\n",
    "    \n",
    "    # Transcribe\n",
    "    result = model.transcribe(audio)\n",
    "    \n",
    "    # Alignment\n",
    "    alignment_model, metadata = whisperx.load_align_model(\n",
    "        language_code=result[\"language\"], device=device\n",
    "    )\n",
    "    result = whisperx.align(result[\"segments\"], alignment_model, metadata, audio, device=device)\n",
    "    \n",
    "    # Diarization\n",
    "    diarization_model = whisperx.DiarizationPipeline(use_auth_token=hf_token)\n",
    "    diarization_result = diarization_model(audio_path)\n",
    "    \n",
    "    # Assign speakers\n",
    "    diarized_result = whisperx.assign_word_speakers(diarization_result, result)\n",
    "    return diarized_result\n",
    "\n",
    "def save_transcript(diarized_result, video_title, output_dir=\"transcripts\"):\n",
    "    os.makedirs(output_dir, exist_ok=True)\n",
    "    safe_title = video_title.replace(\"/\", \"_\")\n",
    "    output_file = os.path.join(output_dir, f\"{safe_title}.txt\")\n",
    "    \n",
    "    with open(output_file, \"w\", encoding=\"utf-8\") as f:\n",
    "        for segment in diarized_result[\"segments\"]:\n",
    "            speaker = segment[\"speaker\"]\n",
    "            start = segment[\"start\"]\n",
    "            end = segment[\"end\"]\n",
    "            text = segment[\"text\"]\n",
    "            f.write(f\"{speaker} [{start:.2f}-{end:.2f}]: {text}\\n\")\n",
    "    print(f\"Saved transcript: {output_file}\")\n",
    "    return output_file\n",
    "\n",
    "# -------------------------\n",
    "# Main workflow\n",
    "# -------------------------\n",
    "\n",
    "def transcribe_recent_videos(channel_url, k=3):\n",
    "    hf_token = get_hf_token()\n",
    "    recent_video_urls = get_recent_videos(channel_url, k)\n",
    "    \n",
    "    transcripts = []\n",
    "    for url in recent_video_urls:\n",
    "        print(f\"Processing video: {url}\")\n",
    "        audio_path, title = download_youtube_audio(url)\n",
    "        diarized_result = transcribe_with_diarization(audio_path, hf_token)\n",
    "        transcript_file = save_transcript(diarized_result, title)\n",
    "        transcripts.append(transcript_file)\n",
    "    \n",
    "    return transcripts"
   ]
  },
  {
   "cell_type": "code",
   "execution_count": null,
   "id": "c2e95629",
   "metadata": {},
   "outputs": [
    {
     "name": "stderr",
     "output_type": "stream",
     "text": [
      "Deprecated Feature: Support for Python version 3.9 has been deprecated. Please update to Python 3.10 or above\n",
      "Deprecated Feature: Support for Python version 3.9 has been deprecated. Please update to Python 3.10 or above\n"
     ]
    },
    {
     "name": "stdout",
     "output_type": "stream",
     "text": [
      "Processing video: https://www.youtube.com/watch?v=KVF6A6snzFk\n",
      "                                                         \r"
     ]
    },
    {
     "name": "stderr",
     "output_type": "stream",
     "text": [
      "C:\\HENRY\\GitHub\\property_researcher_LLM\\env\\lib\\site-packages\\tqdm\\auto.py:21: TqdmWarning: IProgress not found. Please update jupyter and ipywidgets. See https://ipywidgets.readthedocs.io/en/stable/user_install.html\n",
      "  from .autonotebook import tqdm as notebook_tqdm\n",
      "Xet Storage is enabled for this repo, but the 'hf_xet' package is not installed. Falling back to regular HTTP download. For better performance, install the package with: `pip install huggingface_hub[hf_xet]` or `pip install hf_xet`\n",
      "C:\\HENRY\\GitHub\\property_researcher_LLM\\env\\lib\\site-packages\\huggingface_hub\\file_download.py:143: UserWarning: `huggingface_hub` cache-system uses symlinks by default to efficiently store duplicated files but your machine does not support them in C:\\Users\\Henry\\.cache\\huggingface\\hub\\models--Systran--faster-whisper-large-v2. Caching files will still work but in a degraded version that might require more space on your disk. This warning can be disabled by setting the `HF_HUB_DISABLE_SYMLINKS_WARNING` environment variable. For more details, see https://huggingface.co/docs/huggingface_hub/how-to-cache#limitations.\n",
      "To support symlinks on Windows, you either need to activate Developer Mode or to run Python as an administrator. In order to activate developer mode, see this article: https://docs.microsoft.com/en-us/windows/apps/get-started/enable-your-device-for-development\n",
      "  warnings.warn(message)\n"
     ]
    },
    {
     "name": "stdout",
     "output_type": "stream",
     "text": [
      "No language specified, language will be first be detected for each audio file (increases inference time).\n",
      ">>Performing voice activity detection using Pyannote...\n"
     ]
    },
    {
     "name": "stderr",
     "output_type": "stream",
     "text": [
      "C:\\ProgramData\\Miniconda3\\lib\\inspect.py:746: UserWarning: Module 'speechbrain.pretrained' was deprecated, redirecting to 'speechbrain.inference'. Please update your script. This is a change from SpeechBrain 1.0. See: https://github.com/speechbrain/speechbrain/releases/tag/v1.0.0\n",
      "  if ismodule(module) and hasattr(module, '__file__'):\n",
      "Lightning automatically upgraded your loaded checkpoint from v1.5.4 to v2.5.3. To apply the upgrade to your files permanently, run `python -m pytorch_lightning.utilities.upgrade_checkpoint C:\\HENRY\\GitHub\\property_researcher_LLM\\env\\lib\\site-packages\\whisperx\\assets\\pytorch_model.bin`\n",
      "C:\\HENRY\\GitHub\\property_researcher_LLM\\env\\lib\\site-packages\\pyannote\\audio\\utils\\reproducibility.py:74: ReproducibilityWarning: TensorFloat-32 (TF32) has been disabled as it might lead to reproducibility issues and lower accuracy.\n",
      "It can be re-enabled by calling\n",
      "   >>> import torch\n",
      "   >>> torch.backends.cuda.matmul.allow_tf32 = True\n",
      "   >>> torch.backends.cudnn.allow_tf32 = True\n",
      "See https://github.com/pyannote/pyannote-audio/issues/1370 for more details.\n",
      "\n",
      "  warnings.warn(\n"
     ]
    },
    {
     "name": "stdout",
     "output_type": "stream",
     "text": [
      "Model was trained with pyannote.audio 0.0.1, yours is 3.3.2. Bad things might happen unless you revert pyannote.audio to 0.x.\n",
      "Model was trained with torch 1.10.0+cu102, yours is 2.6.0+cu118. Bad things might happen unless you revert torch to 1.x.\n"
     ]
    }
   ],
   "source": [
    "channel_url = \"https://www.youtube.com/@pizzaandproperty1246/videos\"\n",
    "transcripts = transcribe_recent_videos(channel_url, k=3)"
   ]
  },
  {
   "cell_type": "code",
   "execution_count": null,
   "id": "5b364df9",
   "metadata": {},
   "outputs": [],
   "source": []
  }
 ],
 "metadata": {
  "kernelspec": {
   "display_name": "venv",
   "language": "python",
   "name": "env"
  },
  "language_info": {
   "codemirror_mode": {
    "name": "ipython",
    "version": 3
   },
   "file_extension": ".py",
   "mimetype": "text/x-python",
   "name": "python",
   "nbconvert_exporter": "python",
   "pygments_lexer": "ipython3",
   "version": "3.9.5"
  }
 },
 "nbformat": 4,
 "nbformat_minor": 5
}
